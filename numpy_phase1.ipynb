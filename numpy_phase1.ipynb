{
  "nbformat": 4,
  "nbformat_minor": 0,
  "metadata": {
    "colab": {
      "provenance": [],
      "authorship_tag": "ABX9TyOIJ8sX1eOAhKlLbBIf8DGu",
      "include_colab_link": true
    },
    "kernelspec": {
      "name": "python3",
      "display_name": "Python 3"
    },
    "language_info": {
      "name": "python"
    }
  },
  "cells": [
    {
      "cell_type": "markdown",
      "metadata": {
        "id": "view-in-github",
        "colab_type": "text"
      },
      "source": [
        "<a href=\"https://colab.research.google.com/github/Pritam-Mondal18/Machine-Learning-yt/blob/main/numpy_phase1.ipynb\" target=\"_parent\"><img src=\"https://colab.research.google.com/assets/colab-badge.svg\" alt=\"Open In Colab\"/></a>"
      ]
    },
    {
      "cell_type": "markdown",
      "source": [
        "## Numpy array and basics\n",
        "learn about numpy"
      ],
      "metadata": {
        "id": "tdSLe-twTe9y"
      }
    },
    {
      "cell_type": "code",
      "source": [
        "import numpy as np"
      ],
      "metadata": {
        "id": "HkGPtxIfTs-Z"
      },
      "execution_count": 2,
      "outputs": []
    },
    {
      "cell_type": "markdown",
      "source": [
        "### Creating array from list"
      ],
      "metadata": {
        "id": "3RJRvXvETw_1"
      }
    },
    {
      "cell_type": "code",
      "source": [
        "arr_1d = np.array([1, 2, 3, 4, 5])\n",
        "print(\"1D Array:\", arr_1d)\n",
        "\n",
        "arr_2d = np.array([[1,2,3],[4,5,6]])\n",
        "print(\"2D Array:\\n\", arr_2d)"
      ],
      "metadata": {
        "colab": {
          "base_uri": "https://localhost:8080/"
        },
        "id": "vtRBGmBhTzyA",
        "outputId": "d94f37ef-8d54-43df-d0ae-704657e2ba48"
      },
      "execution_count": 3,
      "outputs": [
        {
          "output_type": "stream",
          "name": "stdout",
          "text": [
            "1D Array: [1 2 3 4 5]\n",
            "2D Array:\n",
            " [[1 2 3]\n",
            " [4 5 6]]\n"
          ]
        }
      ]
    },
    {
      "cell_type": "markdown",
      "source": [
        "## List vs array"
      ],
      "metadata": {
        "id": "SGXINmsQUK-U"
      }
    },
    {
      "cell_type": "code",
      "source": [
        "py_list = [1, 2, 3, 4, 5]\n",
        "print(\"list multiplication:\",py_list*2)\n",
        "\n",
        "Py_array = np.array([1,2,3,4,5]) # element wise multiplication\n",
        "print(\"array multiplication:\",Py_array*2)\n",
        "\n",
        "import time\n",
        "start = time.time()\n",
        "py_list = [i*2 for i in range(1000000)]\n",
        "print(\"Numpy list time:\", time.time() - start)\n",
        "\n",
        "start = time.time()\n",
        "Py_array = np.arange(1000000) * 2\n",
        "print(\"Numpy array time:\", time.time() - start)"
      ],
      "metadata": {
        "colab": {
          "base_uri": "https://localhost:8080/"
        },
        "id": "dgnd81u2UMmn",
        "outputId": "656dea17-83ab-4c22-cb68-4af48b3ef8a8"
      },
      "execution_count": 4,
      "outputs": [
        {
          "output_type": "stream",
          "name": "stdout",
          "text": [
            "list multiplication: [1, 2, 3, 4, 5, 1, 2, 3, 4, 5]\n",
            "array multiplication: [ 2  4  6  8 10]\n",
            "Numpy list time: 0.06954288482666016\n",
            "Numpy array time: 0.007741689682006836\n"
          ]
        }
      ]
    },
    {
      "cell_type": "markdown",
      "source": [
        "### Creating array from Scratch"
      ],
      "metadata": {
        "id": "w-e87243UQwR"
      }
    },
    {
      "cell_type": "code",
      "source": [
        "py_Zeros = np.zeros((2,3))\n",
        "print(\"\\nZeros Array:\\n\", py_Zeros)\n",
        "\n",
        "Py_Ones = np.ones((2,3))\n",
        "print(\"\\nOnes Array:\\n\", Py_Ones)\n",
        "\n",
        "py_Empty = np.empty((2,3))\n",
        "print(\"\\nEmpty Array:\\n\", py_Empty)\n",
        "\n",
        "py_full = np.full((2,3), 7)\n",
        "print(\"\\nFull Array:\\n\", py_full)\n",
        "\n",
        "py_random = np.random.random((2,3))\n",
        "print(\"\\nRandom Array:\\n\", py_random)\n",
        "\n",
        "py_secuence = np.arange(0,10,2)\n",
        "print(\"\\nSequence Array:\", py_secuence)"
      ],
      "metadata": {
        "colab": {
          "base_uri": "https://localhost:8080/"
        },
        "id": "Td7nDDelUUev",
        "outputId": "825b1f2d-45ce-4c29-8d51-b0060fc57333"
      },
      "execution_count": 5,
      "outputs": [
        {
          "output_type": "stream",
          "name": "stdout",
          "text": [
            "\n",
            "Zeros Array:\n",
            " [[0. 0. 0.]\n",
            " [0. 0. 0.]]\n",
            "\n",
            "Ones Array:\n",
            " [[1. 1. 1.]\n",
            " [1. 1. 1.]]\n",
            "\n",
            "Empty Array:\n",
            " [[1. 1. 1.]\n",
            " [1. 1. 1.]]\n",
            "\n",
            "Full Array:\n",
            " [[7 7 7]\n",
            " [7 7 7]]\n",
            "\n",
            "Random Array:\n",
            " [[0.0854795  0.82161161 0.4631454 ]\n",
            " [0.47765231 0.22865699 0.97747102]]\n",
            "\n",
            "Sequence Array: [0 2 4 6 8]\n"
          ]
        }
      ]
    },
    {
      "cell_type": "markdown",
      "source": [
        "## Vector,Matrix,Tensor"
      ],
      "metadata": {
        "id": "OCCVL0yrUcdN"
      }
    },
    {
      "cell_type": "code",
      "source": [
        "vector = np.array([1,2,3])\n",
        "print(\"Vector: \",vector)\n",
        "\n",
        "Matrix = np.array([[1,2,3],[4,5,6]])\n",
        "print(\"\\nMatrix:\\n\", Matrix)\n",
        "\n",
        "Tensor = np.array([[[1,2,3],[4,5,6]],[[7,8,9],[1,2,3]]])\n",
        "print(\"\\nTensor:\\n\", Tensor)"
      ],
      "metadata": {
        "colab": {
          "base_uri": "https://localhost:8080/"
        },
        "id": "dbIjt0IQUdYs",
        "outputId": "364bc3ff-5be0-48e6-f2ad-75b57e07fb36"
      },
      "execution_count": 6,
      "outputs": [
        {
          "output_type": "stream",
          "name": "stdout",
          "text": [
            "Vector:  [1 2 3]\n",
            "\n",
            "Matrix:\n",
            " [[1 2 3]\n",
            " [4 5 6]]\n",
            "\n",
            "Tensor:\n",
            " [[[1 2 3]\n",
            "  [4 5 6]]\n",
            "\n",
            " [[7 8 9]\n",
            "  [1 2 3]]]\n"
          ]
        }
      ]
    },
    {
      "cell_type": "markdown",
      "source": [
        "## Array properties\n"
      ],
      "metadata": {
        "id": "bHecT9fPUkQp"
      }
    },
    {
      "cell_type": "code",
      "source": [
        "arr = np.array([[1,2,3],[4,5,6]])\n",
        "print(\"Shape: \",arr.shape)\n",
        "print(\"\\nDimensition: \",arr.ndim)\n",
        "print(\"\\n Size: \",arr.size)\n",
        "print(\"\\n Data Type: \",arr.dtype)"
      ],
      "metadata": {
        "colab": {
          "base_uri": "https://localhost:8080/"
        },
        "id": "8axgrM75UlJj",
        "outputId": "a783d331-789b-4788-c5f4-1fe0eb470b4d"
      },
      "execution_count": 7,
      "outputs": [
        {
          "output_type": "stream",
          "name": "stdout",
          "text": [
            "Shape:  (2, 3)\n",
            "\n",
            "Dimensition:  2\n",
            "\n",
            " Size:  6\n",
            "\n",
            " Data Type:  int64\n"
          ]
        }
      ]
    },
    {
      "cell_type": "markdown",
      "source": [
        "## Array Reshapping"
      ],
      "metadata": {
        "id": "9LXleHjcUrvv"
      }
    },
    {
      "cell_type": "code",
      "source": [
        "arr_original =np.arange(12)\n",
        "print(\"Original Array:\\n\", arr_original)\n",
        "\n",
        "arr_reshaped = arr_original.reshape(3,4)\n",
        "print(\"\\nReshaped Array:\\n\", arr_reshaped)\n",
        "\n",
        "arr_flattened = arr_reshaped.flatten()\n",
        "print(\"\\nFlattened Array:\\n\", arr_flattened)\n",
        "\n",
        "# Raveling the array\n",
        "# Raveling returns a flattened array, but it does not create a copy if possible\n",
        "# it returns a view of the original array\n",
        "# so changes in the raveled array will affect the original array if it is not a copy\n",
        "\n",
        "arr_revaled = arr_reshaped.ravel()\n",
        "print(\"\\nRaveled Array:\\n\", arr_revaled)\n",
        "\n",
        "# Transposing the array\n",
        "# Transposing swaps the rows and columns\n",
        "arr_Transposed = arr_reshaped.T\n",
        "print(\"\\nTransposed Array:\\n\", arr_Transposed)"
      ],
      "metadata": {
        "colab": {
          "base_uri": "https://localhost:8080/"
        },
        "id": "7_wrlQSFUsuW",
        "outputId": "2e70238b-50b2-4c71-8904-66d7e3614b69"
      },
      "execution_count": 8,
      "outputs": [
        {
          "output_type": "stream",
          "name": "stdout",
          "text": [
            "Original Array:\n",
            " [ 0  1  2  3  4  5  6  7  8  9 10 11]\n",
            "\n",
            "Reshaped Array:\n",
            " [[ 0  1  2  3]\n",
            " [ 4  5  6  7]\n",
            " [ 8  9 10 11]]\n",
            "\n",
            "Flattened Array:\n",
            " [ 0  1  2  3  4  5  6  7  8  9 10 11]\n",
            "\n",
            "Raveled Array:\n",
            " [ 0  1  2  3  4  5  6  7  8  9 10 11]\n",
            "\n",
            "Transposed Array:\n",
            " [[ 0  4  8]\n",
            " [ 1  5  9]\n",
            " [ 2  6 10]\n",
            " [ 3  7 11]]\n"
          ]
        }
      ]
    }
  ]
}