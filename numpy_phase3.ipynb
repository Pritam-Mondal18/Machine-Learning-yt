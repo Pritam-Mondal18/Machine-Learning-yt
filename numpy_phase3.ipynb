{
  "nbformat": 4,
  "nbformat_minor": 0,
  "metadata": {
    "colab": {
      "provenance": [],
      "authorship_tag": "ABX9TyN/0uOR2FbpQPqjwoK/vi+6",
      "include_colab_link": true
    },
    "kernelspec": {
      "name": "python3",
      "display_name": "Python 3"
    },
    "language_info": {
      "name": "python"
    }
  },
  "cells": [
    {
      "cell_type": "markdown",
      "metadata": {
        "id": "view-in-github",
        "colab_type": "text"
      },
      "source": [
        "<a href=\"https://colab.research.google.com/github/Pritam-Mondal18/Machine-Learning-yt/blob/main/numpy_phase3.ipynb\" target=\"_parent\"><img src=\"https://colab.research.google.com/assets/colab-badge.svg\" alt=\"Open In Colab\"/></a>"
      ]
    },
    {
      "cell_type": "markdown",
      "source": [
        "# Advance Operation with Bussines examples"
      ],
      "metadata": {
        "id": "ZF56_t1OZ8Hn"
      }
    },
    {
      "cell_type": "markdown",
      "source": [
        "### Data Structure: [resturant_Id, 2021,2022,2023,2024]\n",
        "sales_data = np.array([\n",
        "\n",
        "[1,150000,180000,220000,250000],# paradise Briyani\n",
        "\n",
        "[2,120000,140000,160000,190000], # Beijing Bites\n",
        "\n",
        "[3,200000,230000,240000,270000], # Pizza Hub\n",
        "\n",
        "[4,180000,210000,240000,270000], # Burger Point\n",
        "\n",
        "[5,160000,185000,205000,230000]  # Chai Point\n",
        "\n",
        "])"
      ],
      "metadata": {
        "id": "RTLRK8LqZ_8M"
      }
    },
    {
      "cell_type": "code",
      "source": [
        "import numpy as np\n",
        "import matplotlib.pyplot as plt"
      ],
      "metadata": {
        "id": "Wv67Pl03aUq9"
      },
      "execution_count": 5,
      "outputs": []
    },
    {
      "cell_type": "code",
      "source": [
        "# Data Structure: [resturant_Id, 2021,2022,2023,2024]\n",
        "sales_data = np.array([\n",
        "\n",
        "[1,150000,180000,220000,250000],# paradise Briyani\n",
        "\n",
        "[2,120000,140000,160000,190000], # Beijing Bites\n",
        "\n",
        "[3,200000,230000,240000,270000], # Pizza Hub\n",
        "\n",
        "[4,180000,210000,240000,270000], # Burger Point\n",
        "\n",
        "[5,160000,185000,205000,230000]  # Chai Point\n",
        "\n",
        "])\n",
        "\n",
        "print(\"==== Zomato Sales Analysis ====\")"
      ],
      "metadata": {
        "colab": {
          "base_uri": "https://localhost:8080/"
        },
        "id": "e_ODPstc03gx",
        "outputId": "28b202d9-bfbb-4eb6-da2e-07207150bce0"
      },
      "execution_count": 17,
      "outputs": [
        {
          "output_type": "stream",
          "name": "stdout",
          "text": [
            "==== Zomato Sales Analysis ====\n"
          ]
        }
      ]
    },
    {
      "cell_type": "code",
      "source": [
        "# Spapping the data\n",
        "shaped_data = sales_data.shape\n",
        "print(\"Sales Data Shape: \",shaped_data)\n",
        "\n",
        "# print 1st 3 rows data\n",
        "new_row = sales_data[:3] #[0:3] both are same\n",
        "# new_row = sales_data[:,1:] #this means \"[:,]\" --> is all rows value and \"[1:]\" --> means start from index[1] of all columns\n",
        "print(\"\\n1st 3 rows data are:\\n\",new_row)"
      ],
      "metadata": {
        "colab": {
          "base_uri": "https://localhost:8080/"
        },
        "id": "3-ItzHgO1NLQ",
        "outputId": "e3bed520-8a30-430e-fc78-bac24a471ac7"
      },
      "execution_count": 11,
      "outputs": [
        {
          "output_type": "stream",
          "name": "stdout",
          "text": [
            "Sales Data Shape:  (5, 5)\n",
            "\n",
            "1st 3 rows data are:\n",
            " [[     1 150000 180000 220000 250000]\n",
            " [     2 120000 140000 160000 190000]\n",
            " [     3 200000 230000 240000 270000]]\n"
          ]
        }
      ]
    },
    {
      "cell_type": "code",
      "source": [
        "# Total sales per year\n",
        "yearly_total_sales = np.sum(sales_data[:,1:], axis=0)\n",
        "print(\"Yearly total Sales: \",yearly_total_sales)"
      ],
      "metadata": {
        "colab": {
          "base_uri": "https://localhost:8080/"
        },
        "id": "qIst32dx44N4",
        "outputId": "f6485bb9-3f6f-41b7-c4c6-fb8f8c849a86"
      },
      "execution_count": 25,
      "outputs": [
        {
          "output_type": "stream",
          "name": "stdout",
          "text": [
            "Yearly total Sales:  [ 810000  945000 1065000 1210000]\n"
          ]
        }
      ]
    },
    {
      "cell_type": "code",
      "source": [
        "# Minimum Sales per Restaurant\n",
        "min_sales = np.min(sales_data[:, 1:], axis=1)\n",
        "print(\"Minimum Sales per Restaurant: \",min_sales)"
      ],
      "metadata": {
        "colab": {
          "base_uri": "https://localhost:8080/"
        },
        "id": "CAhxIkXs6WpJ",
        "outputId": "5638fb3a-675d-4442-bb90-d421159d5c07"
      },
      "execution_count": 18,
      "outputs": [
        {
          "output_type": "stream",
          "name": "stdout",
          "text": [
            "Minimum Sales per Restaurant:  [150000 120000 200000 180000 160000]\n"
          ]
        }
      ]
    },
    {
      "cell_type": "code",
      "source": [
        "# Maximum Sales per year\n",
        "max_sales = np.max(sales_data[:, 1:],axis=0)\n",
        "print(\"Maximum Sales per year: \",max_sales)"
      ],
      "metadata": {
        "colab": {
          "base_uri": "https://localhost:8080/"
        },
        "id": "tyDjF7HZ8E_i",
        "outputId": "9613c44a-ca11-4e4f-8106-b639eb686371"
      },
      "execution_count": 26,
      "outputs": [
        {
          "output_type": "stream",
          "name": "stdout",
          "text": [
            "Maximum Sales per year:  [200000 230000 240000 270000]\n"
          ]
        }
      ]
    },
    {
      "cell_type": "code",
      "source": [
        "# Avarage Sales of Restaurent\n",
        "# avg_sales = np.average(sales_data[:,1:],axis=1)\n",
        "avg_sales = np.mean(sales_data[:,1:],axis=1)\n",
        "print(\"Avarage Sales of Restaurent: \",avg_sales)"
      ],
      "metadata": {
        "colab": {
          "base_uri": "https://localhost:8080/"
        },
        "id": "t6BLYxAR8zi9",
        "outputId": "87cc2786-1db9-4add-a9ea-5334a2c340be"
      },
      "execution_count": 31,
      "outputs": [
        {
          "output_type": "stream",
          "name": "stdout",
          "text": [
            "Avarage Sales of Restaurent:  [200000. 152500. 235000. 225000. 195000.]\n"
          ]
        }
      ]
    },
    {
      "cell_type": "code",
      "source": [
        "#Cumulative Sales\n",
        "cumsumm = np.cumsum(sales_data[:,1:],axis=1)\n",
        "print(\"Cumulative sum of sales:\\n\",cumsumm)"
      ],
      "metadata": {
        "colab": {
          "base_uri": "https://localhost:8080/"
        },
        "id": "eg73JH4O-kWz",
        "outputId": "2607e34d-ce93-4f62-afb7-8c16ca9438cd"
      },
      "execution_count": 34,
      "outputs": [
        {
          "output_type": "stream",
          "name": "stdout",
          "text": [
            "Cumulative sum of sales:\n",
            " [[150000 330000 550000 800000]\n",
            " [120000 260000 420000 610000]\n",
            " [200000 430000 670000 940000]\n",
            " [180000 390000 630000 900000]\n",
            " [160000 345000 550000 780000]]\n"
          ]
        }
      ]
    },
    {
      "cell_type": "code",
      "source": [
        "# Visualize\n",
        "plt.figure(figsize=(10,6))\n",
        "plt.plot(np.mean(cumsumm,axis=0))\n",
        "plt.title(\"Cumulative Sales\")\n",
        "plt.xlabel(\"Years\")\n",
        "plt.ylabel(\"Sales\")\n",
        "plt.grid(True)\n",
        "plt.show()"
      ],
      "metadata": {
        "colab": {
          "base_uri": "https://localhost:8080/",
          "height": 564
        },
        "id": "U6oT5CtuA2wl",
        "outputId": "051403d4-2602-4052-cd48-b09db9cf38df"
      },
      "execution_count": 37,
      "outputs": [
        {
          "output_type": "display_data",
          "data": {
            "text/plain": [
              "<Figure size 1000x600 with 1 Axes>"
            ],
            "image/png": "[encoded data removed]"
          },
          "metadata": {}
        }
      ]
    }
  ]
}