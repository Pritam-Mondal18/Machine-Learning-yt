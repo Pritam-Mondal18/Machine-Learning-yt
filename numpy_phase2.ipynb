{
  "nbformat": 4,
  "nbformat_minor": 0,
  "metadata": {
    "colab": {
      "provenance": [],
      "authorship_tag": "ABX9TyPCwjZH+/16skxJw88xdZhu",
      "include_colab_link": true
    },
    "kernelspec": {
      "name": "python3",
      "display_name": "Python 3"
    },
    "language_info": {
      "name": "python"
    }
  },
  "cells": [
    {
      "cell_type": "markdown",
      "metadata": {
        "id": "view-in-github",
        "colab_type": "text"
      },
      "source": [
        "<a href=\"https://colab.research.google.com/github/Pritam-Mondal18/Machine-Learning-yt/blob/main/numpy_phase2.ipynb\" target=\"_parent\"><img src=\"https://colab.research.google.com/assets/colab-badge.svg\" alt=\"Open In Colab\"/></a>"
      ]
    },
    {
      "cell_type": "markdown",
      "source": [
        "## Numpy Array operations"
      ],
      "metadata": {
        "id": "j-2LnyPtWc8W"
      }
    },
    {
      "cell_type": "code",
      "source": [
        "import numpy as np"
      ],
      "metadata": {
        "id": "Kg_EEFSpWd67"
      },
      "execution_count": 1,
      "outputs": []
    },
    {
      "cell_type": "code",
      "source": [
        "arr = np.arange(10)\n",
        "print(\"Original Array:\", arr)\n",
        "\n",
        "print(\"\\nBasic Slicing: \",arr[2:7])\n",
        "print(\"\\nAdvanced/with Steps Slicing: \",arr[2:7:2])\n",
        "print(\"\\nNegative Slicing: \",arr[-3])"
      ],
      "metadata": {
        "colab": {
          "base_uri": "https://localhost:8080/"
        },
        "id": "QvTEJddLWjSx",
        "outputId": "abb423ee-e996-4484-f7be-243862f24fb2"
      },
      "execution_count": 2,
      "outputs": [
        {
          "output_type": "stream",
          "name": "stdout",
          "text": [
            "Original Array: [0 1 2 3 4 5 6 7 8 9]\n",
            "\n",
            "Basic Slicing:  [2 3 4 5 6]\n",
            "\n",
            "Advanced/with Steps Slicing:  [2 4 6]\n",
            "\n",
            "Negative Slicing:  7\n"
          ]
        }
      ]
    },
    {
      "cell_type": "code",
      "source": [
        "arr_2d = np.array([[1, 2, 3], [4, 5, 6], [7, 8, 9]])\n",
        "print(\"2D Array:\\n\", arr_2d)\n",
        "\n",
        "print(\"\\nSpecific Element Access: \",arr_2d[1,2])\n",
        "print(\"\\nRow Access: \",arr_2d[1,:])\n",
        "print(\"\\nColumn Access: \",arr_2d[:,1])"
      ],
      "metadata": {
        "colab": {
          "base_uri": "https://localhost:8080/"
        },
        "id": "OjZegMFeWm1d",
        "outputId": "292301ba-a1e8-444f-f832-3e894d22a6e6"
      },
      "execution_count": 3,
      "outputs": [
        {
          "output_type": "stream",
          "name": "stdout",
          "text": [
            "2D Array:\n",
            " [[1 2 3]\n",
            " [4 5 6]\n",
            " [7 8 9]]\n",
            "\n",
            "Specific Element Access:  6\n",
            "\n",
            "Row Access:  [4 5 6]\n",
            "\n",
            "Column Access:  [2 5 8]\n"
          ]
        }
      ]
    }
  ]
}