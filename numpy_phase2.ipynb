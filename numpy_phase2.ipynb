{
  "nbformat": 4,
  "nbformat_minor": 0,
  "metadata": {
    "colab": {
      "provenance": [],
      "authorship_tag": "ABX9TyMNdi7GVdLaAh9SbSG9Zdc4",
      "include_colab_link": true
    },
    "kernelspec": {
      "name": "python3",
      "display_name": "Python 3"
    },
    "language_info": {
      "name": "python"
    }
  },
  "cells": [
    {
      "cell_type": "markdown",
      "metadata": {
        "id": "view-in-github",
        "colab_type": "text"
      },
      "source": [
        "<a href=\"https://colab.research.google.com/github/Pritam-Mondal18/Machine-Learning-yt/blob/main/numpy_phase2.ipynb\" target=\"_parent\"><img src=\"https://colab.research.google.com/assets/colab-badge.svg\" alt=\"Open In Colab\"/></a>"
      ]
    },
    {
      "cell_type": "markdown",
      "source": [
        "## Numpy Array operations"
      ],
      "metadata": {
        "id": "j-2LnyPtWc8W"
      }
    },
    {
      "cell_type": "code",
      "source": [
        "import numpy as np"
      ],
      "metadata": {
        "id": "Kg_EEFSpWd67"
      },
      "execution_count": 1,
      "outputs": []
    },
    {
      "cell_type": "code",
      "source": [
        "arr = np.arange(10)\n",
        "print(\"Original Array:\", arr)\n",
        "\n",
        "print(\"\\nBasic Slicing: \",arr[2:7])\n",
        "print(\"\\nAdvanced/with Steps Slicing: \",arr[2:7:2])\n",
        "print(\"\\nNegative Slicing: \",arr[-3])"
      ],
      "metadata": {
        "colab": {
          "base_uri": "https://localhost:8080/"
        },
        "id": "QvTEJddLWjSx",
        "outputId": "abb423ee-e996-4484-f7be-243862f24fb2"
      },
      "execution_count": 2,
      "outputs": [
        {
          "output_type": "stream",
          "name": "stdout",
          "text": [
            "Original Array: [0 1 2 3 4 5 6 7 8 9]\n",
            "\n",
            "Basic Slicing:  [2 3 4 5 6]\n",
            "\n",
            "Advanced/with Steps Slicing:  [2 4 6]\n",
            "\n",
            "Negative Slicing:  7\n"
          ]
        }
      ]
    },
    {
      "cell_type": "code",
      "source": [
        "arr_2d = np.array([[1, 2, 3], [4, 5, 6], [7, 8, 9]])\n",
        "print(\"2D Array:\\n\", arr_2d)\n",
        "\n",
        "print(\"\\nSpecific Element Access: \",arr_2d[1,2])\n",
        "print(\"\\nRow Access: \",arr_2d[1,:])\n",
        "print(\"\\nColumn Access: \",arr_2d[:,1])"
      ],
      "metadata": {
        "colab": {
          "base_uri": "https://localhost:8080/"
        },
        "id": "OjZegMFeWm1d",
        "outputId": "292301ba-a1e8-444f-f832-3e894d22a6e6"
      },
      "execution_count": 3,
      "outputs": [
        {
          "output_type": "stream",
          "name": "stdout",
          "text": [
            "2D Array:\n",
            " [[1 2 3]\n",
            " [4 5 6]\n",
            " [7 8 9]]\n",
            "\n",
            "Specific Element Access:  6\n",
            "\n",
            "Row Access:  [4 5 6]\n",
            "\n",
            "Column Access:  [2 5 8]\n"
          ]
        }
      ]
    },
    {
      "cell_type": "markdown",
      "source": [
        "## Sorting"
      ],
      "metadata": {
        "id": "BOrwyvRVXsJz"
      }
    },
    {
      "cell_type": "code",
      "source": [
        "unsorted = np.array([2,0,1,6,5,4,3,8,9,7])\n",
        "print(\"\\nUnsorted Array:\", np.sort(unsorted))\n",
        "\n",
        "unSorted_2D = np.array([[3,1],[1,2],[3,2]])\n",
        "print(\"\\nUnsorted 2D Array:\\n\", unSorted_2D)\n",
        "print(\"\\n Sorted 2D array by column:\\n\", np.sort(unSorted_2D,axis=0))  # Sorts each column\n",
        "print(\"\\n Sorted 2D array by row:\\n\", np.sort(unSorted_2D,axis=1))  # Sorts each row"
      ],
      "metadata": {
        "colab": {
          "base_uri": "https://localhost:8080/"
        },
        "id": "uBVKBq3uXs8m",
        "outputId": "0b67857e-8386-44ad-d700-a28b63ae8726"
      },
      "execution_count": 4,
      "outputs": [
        {
          "output_type": "stream",
          "name": "stdout",
          "text": [
            "\n",
            "Unsorted Array: [0 1 2 3 4 5 6 7 8 9]\n",
            "\n",
            "Unsorted 2D Array:\n",
            " [[3 1]\n",
            " [1 2]\n",
            " [3 2]]\n",
            "\n",
            " Sorted 2D array by column:\n",
            " [[1 1]\n",
            " [3 2]\n",
            " [3 2]]\n",
            "\n",
            " Sorted 2D array by row:\n",
            " [[1 3]\n",
            " [1 2]\n",
            " [2 3]]\n"
          ]
        }
      ]
    },
    {
      "cell_type": "markdown",
      "source": [
        "## Filter"
      ],
      "metadata": {
        "id": "jkJew2uXYTR5"
      }
    },
    {
      "cell_type": "code",
      "source": [
        "numbers = np.array([1,2,3,4,5,6,7,8,9,10])\n",
        "even_numbers = numbers[numbers % 2 == 0]\n",
        "print(\"\\nEven Numbers:\", even_numbers)"
      ],
      "metadata": {
        "colab": {
          "base_uri": "https://localhost:8080/"
        },
        "id": "PWSBm-_8YVDt",
        "outputId": "7f3d8b60-19d2-4bbe-98b7-9cbf3603adfb"
      },
      "execution_count": 5,
      "outputs": [
        {
          "output_type": "stream",
          "name": "stdout",
          "text": [
            "\n",
            "Even Numbers: [ 2  4  6  8 10]\n"
          ]
        }
      ]
    },
    {
      "cell_type": "markdown",
      "source": [
        "## Filter with mask"
      ],
      "metadata": {
        "id": "Ec_AzylYYZC1"
      }
    },
    {
      "cell_type": "code",
      "source": [
        "mask = numbers > 5\n",
        "print(\"\\nNumbers greater than 5:\", numbers[mask])"
      ],
      "metadata": {
        "colab": {
          "base_uri": "https://localhost:8080/"
        },
        "id": "hvAtPXxDYcIk",
        "outputId": "10d45008-aa4b-4d3c-f859-db027b747ba4"
      },
      "execution_count": 6,
      "outputs": [
        {
          "output_type": "stream",
          "name": "stdout",
          "text": [
            "\n",
            "Numbers greater than 5: [ 6  7  8  9 10]\n"
          ]
        }
      ]
    },
    {
      "cell_type": "markdown",
      "source": [
        "## Fancy Indexing vs np.where()"
      ],
      "metadata": {
        "id": "QhADaDPZYfwZ"
      }
    },
    {
      "cell_type": "code",
      "source": [
        "indices = [0,2,4]\n",
        "print(numbers[indices])  # Fancy indexing\n",
        "\n",
        "where_result = np.where(numbers>5)\n",
        "print(\"\\n\",where_result)  # np.where() returns indices where condition is true\n",
        "print(\"\\nNP Where Result:\", numbers[where_result])  # Accessing elements using np.where()"
      ],
      "metadata": {
        "colab": {
          "base_uri": "https://localhost:8080/"
        },
        "id": "oS2fG_I9Yg1r",
        "outputId": "6872d5c6-5793-4740-fc85-5dcf0b13da45"
      },
      "execution_count": 7,
      "outputs": [
        {
          "output_type": "stream",
          "name": "stdout",
          "text": [
            "[1 3 5]\n",
            "\n",
            " (array([5, 6, 7, 8, 9]),)\n",
            "\n",
            "NP Where Result: [ 6  7  8  9 10]\n"
          ]
        }
      ]
    },
    {
      "cell_type": "code",
      "source": [
        "condition_array = np.where(numbers>5, numbers*2, numbers)\n",
        "print(\"\\nCondition Array (numbers > 5):\", condition_array)  # Conditional array creation"
      ],
      "metadata": {
        "colab": {
          "base_uri": "https://localhost:8080/"
        },
        "id": "DviqRZ7qYjaM",
        "outputId": "7a620ae6-991e-42ef-db69-06bb17db478e"
      },
      "execution_count": 8,
      "outputs": [
        {
          "output_type": "stream",
          "name": "stdout",
          "text": [
            "\n",
            "Condition Array (numbers > 5): [ 1  2  3  4  5 12 14 16 18 20]\n"
          ]
        }
      ]
    },
    {
      "cell_type": "code",
      "source": [
        "condition_array = np.where(numbers>5, \"true\", \"false\")\n",
        "print(\"\\nCondition Array (numbers > 5):\", condition_array)  # Conditional array creation\n",
        "\n",
        "# for mor clarification\n",
        "# if(numbers>5){\n",
        "#     print(\"true\")\n",
        "# } else {\n",
        "#     print(\"false\")\n",
        "# }"
      ],
      "metadata": {
        "colab": {
          "base_uri": "https://localhost:8080/"
        },
        "id": "Rl30ae7pYqPn",
        "outputId": "0333c2d2-3711-4d86-9ef4-6f10b46aef37"
      },
      "execution_count": 9,
      "outputs": [
        {
          "output_type": "stream",
          "name": "stdout",
          "text": [
            "\n",
            "Condition Array (numbers > 5): ['false' 'false' 'false' 'false' 'false' 'true' 'true' 'true' 'true'\n",
            " 'true']\n"
          ]
        }
      ]
    },
    {
      "cell_type": "markdown",
      "source": [
        "\n",
        "### Adding and Removing data"
      ],
      "metadata": {
        "id": "-vhxRV0dYvkX"
      }
    },
    {
      "cell_type": "code",
      "source": [
        "arr1 = np.array([1,2,3])\n",
        "arr2 = np.array([4,5,6])\n",
        "print(\"\\nArray 1:\", arr1+arr2)  # Element-wise addition {1+4=5, 2+5=7, 3+6=9}\n",
        "combined = np.concatenate((arr1,arr2))\n",
        "print(\"\\nCombined Array:\", combined)  # Concatenation of arrays"
      ],
      "metadata": {
        "colab": {
          "base_uri": "https://localhost:8080/"
        },
        "id": "Zf8irIVKYwLC",
        "outputId": "f8c7c7c5-398f-4ba1-fda4-04a785808b52"
      },
      "execution_count": 10,
      "outputs": [
        {
          "output_type": "stream",
          "name": "stdout",
          "text": [
            "\n",
            "Array 1: [5 7 9]\n",
            "\n",
            "Combined Array: [1 2 3 4 5 6]\n"
          ]
        }
      ]
    },
    {
      "cell_type": "markdown",
      "source": [
        "### Array Compatibilty"
      ],
      "metadata": {
        "id": "1HuM642zYzuj"
      }
    },
    {
      "cell_type": "code",
      "source": [
        "a = np.array([1,2,3])\n",
        "b = np.array([4,5,6])\n",
        "c = np.array([7,8,9])\n",
        "print(\"Array Compatibility: \",a.shape == b.shape == c.shape)  # Check if arrays have the same shape"
      ],
      "metadata": {
        "colab": {
          "base_uri": "https://localhost:8080/"
        },
        "id": "QV3PdlRgY3A2",
        "outputId": "47fa2154-f752-47b8-e099-5b1cfe34da67"
      },
      "execution_count": 11,
      "outputs": [
        {
          "output_type": "stream",
          "name": "stdout",
          "text": [
            "Array Compatibility:  True\n"
          ]
        }
      ]
    },
    {
      "cell_type": "code",
      "source": [
        "original = np.array([[1,2],[3,4]])\n",
        "new_row = np.array([5,6])\n",
        "\n",
        "with_new_row = np.vstack((original, new_row))  # Adding a new row (vertical stack[vstack])\n",
        "# Note: new_row must have the same number of columns as original\n",
        "print(\"\\nOriginal Array:\\n\", original)\n",
        "print(\"\\nAfter adding new row:\\n\",with_new_row)\n",
        "\n",
        "new_col = np.array([[5],[1]])\n",
        "with_new_col = np.hstack((original,new_col))  # Adding a new column (horizontal stack[hstack])\n",
        "# Note: new_col must have the same number of rows as original\n",
        "print(\"\\nAfter adding new col:\\n\",with_new_col)\n"
      ],
      "metadata": {
        "colab": {
          "base_uri": "https://localhost:8080/"
        },
        "id": "pJEB-NA0ZAhG",
        "outputId": "39ebe344-8fda-4af0-e02d-282a987a4ed7"
      },
      "execution_count": 12,
      "outputs": [
        {
          "output_type": "stream",
          "name": "stdout",
          "text": [
            "\n",
            "Original Array:\n",
            " [[1 2]\n",
            " [3 4]]\n",
            "\n",
            "After adding new row:\n",
            " [[1 2]\n",
            " [3 4]\n",
            " [5 6]]\n",
            "\n",
            "After adding new col:\n",
            " [[1 2 5]\n",
            " [3 4 1]]\n"
          ]
        }
      ]
    },
    {
      "cell_type": "markdown",
      "source": [
        "\n",
        "## Deletion"
      ],
      "metadata": {
        "id": "JkFFSKTTZEQ_"
      }
    },
    {
      "cell_type": "code",
      "source": [
        "dlt = np.array([1,2,3,4,5,6])\n",
        "deleted = np.delete(dlt,2)  # Deleting element at index 2\n",
        "print(\"\\nArray after deletion:\", deleted)"
      ],
      "metadata": {
        "colab": {
          "base_uri": "https://localhost:8080/"
        },
        "id": "LgrQMNcEZFEo",
        "outputId": "3ba5e291-a35d-4cad-c709-f3bdedc8a3b0"
      },
      "execution_count": 13,
      "outputs": [
        {
          "output_type": "stream",
          "name": "stdout",
          "text": [
            "\n",
            "Array after deletion: [1 2 4 5 6]\n"
          ]
        }
      ]
    }
  ]
}