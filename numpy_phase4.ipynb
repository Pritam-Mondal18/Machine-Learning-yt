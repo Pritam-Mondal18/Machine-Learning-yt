{
  "nbformat": 4,
  "nbformat_minor": 0,
  "metadata": {
    "colab": {
      "provenance": [],
      "authorship_tag": "ABX9TyNdztP9gd2GrXPReVcJBaOC",
      "include_colab_link": true
    },
    "kernelspec": {
      "name": "python3",
      "display_name": "Python 3"
    },
    "language_info": {
      "name": "python"
    }
  },
  "cells": [
    {
      "cell_type": "markdown",
      "metadata": {
        "id": "view-in-github",
        "colab_type": "text"
      },
      "source": [
        "<a href=\"https://colab.research.google.com/github/Pritam-Mondal18/Machine-Learning-yt/blob/main/numpy_phase4.ipynb\" target=\"_parent\"><img src=\"https://colab.research.google.com/assets/colab-badge.svg\" alt=\"Open In Colab\"/></a>"
      ]
    },
    {
      "cell_type": "markdown",
      "source": [
        "# Vecter operations\n"
      ],
      "metadata": {
        "id": "rCFubAYuGpH-"
      }
    },
    {
      "cell_type": "code",
      "source": [
        "import numpy as np"
      ],
      "metadata": {
        "id": "8D75iBDRH3iR"
      },
      "execution_count": 2,
      "outputs": []
    },
    {
      "cell_type": "code",
      "source": [
        "vector1 = np.array([1,2,3,4,5,6])\n",
        "vector2 =np.array([7,8,9,10,11,12])\n",
        "# Adition of vectors\n",
        "vec_Sum = vector1 + vector2\n",
        "print(\"Sum of Vectors: \",vec_Sum)\n",
        "# Multiplication of Vectors\n",
        "vec_mul = vector1 * vector2\n",
        "print(\"Multiplication of Vectors: \",vec_mul)\n",
        "#Dot product\n",
        "dot_product = np.dot(vector1,vector2)\n",
        "print(\"Dot product of Vectors: \",dot_product)"
      ],
      "metadata": {
        "colab": {
          "base_uri": "https://localhost:8080/"
        },
        "id": "ougFJ8USGysh",
        "outputId": "0565ca44-a6ad-46a3-abf5-df3044f6d632"
      },
      "execution_count": 5,
      "outputs": [
        {
          "output_type": "stream",
          "name": "stdout",
          "text": [
            "Sum of Vectors:  [ 8 10 12 14 16 18]\n",
            "Multiplication of Vectors:  [ 7 16 27 40 55 72]\n",
            "Dot product of Vectors:  217\n"
          ]
        }
      ]
    },
    {
      "cell_type": "code",
      "source": [
        "restaurant_types = np.array(['briyani','chinese','pizza','burger','cafe'])\n",
        "vactorized_upper = np.vectorize(str.upper)\n",
        "print(\"vectorized Upper\",vactorized_upper(restaurant_types))"
      ],
      "metadata": {
        "colab": {
          "base_uri": "https://localhost:8080/"
        },
        "id": "I_JBCs1zLb-v",
        "outputId": "12572a0f-fc19-4313-9608-82fd0707d9d2"
      },
      "execution_count": 6,
      "outputs": [
        {
          "output_type": "stream",
          "name": "stdout",
          "text": [
            "vectorized Upper ['BRIYANI' 'CHINESE' 'PIZZA' 'BURGER' 'CAFE']\n"
          ]
        }
      ]
    },
    {
      "cell_type": "markdown",
      "source": [
        "# Brodcast\n"
      ],
      "metadata": {
        "id": "RsdEL64bNGfT"
      }
    },
    {
      "cell_type": "code",
      "source": [
        "# Data Structure: [resturant_Id, 2021,2022,2023,2024]\n",
        "sales_data = np.array([\n",
        "\n",
        "[1,150000,180000,220000,250000],# paradise Briyani\n",
        "\n",
        "[2,120000,140000,160000,190000], # Beijing Bites\n",
        "\n",
        "[3,200000,230000,240000,270000], # Pizza Hub\n",
        "\n",
        "[4,180000,210000,240000,270000], # Burger Point\n",
        "\n",
        "[5,160000,185000,205000,230000] # Chai Point\n",
        "\n",
        "])"
      ],
      "metadata": {
        "id": "UomijIjoNg5H"
      },
      "execution_count": 12,
      "outputs": []
    },
    {
      "cell_type": "code",
      "source": [
        "monthly_avg = sales_data[:,1:]/12\n",
        "print(\"Monthly Average:\\n\",monthly_avg)"
      ],
      "metadata": {
        "colab": {
          "base_uri": "https://localhost:8080/"
        },
        "id": "Gl3LYomkNK_V",
        "outputId": "61ba42aa-7465-492a-c21e-3989b1d79af2"
      },
      "execution_count": 14,
      "outputs": [
        {
          "output_type": "stream",
          "name": "stdout",
          "text": [
            "Monthly Average:\n",
            " [[12500.         15000.         18333.33333333 20833.33333333]\n",
            " [10000.         11666.66666667 13333.33333333 15833.33333333]\n",
            " [16666.66666667 19166.66666667 20000.         22500.        ]\n",
            " [15000.         17500.         20000.         22500.        ]\n",
            " [13333.33333333 15416.66666667 17083.33333333 19166.66666667]]\n"
          ]
        }
      ]
    }
  ]
}