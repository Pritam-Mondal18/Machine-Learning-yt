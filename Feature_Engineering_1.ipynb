{
  "nbformat": 4,
  "nbformat_minor": 0,
  "metadata": {
    "colab": {
      "provenance": [],
      "authorship_tag": "ABX9TyPCoDrogbuaNN3tWfLmshvk",
      "include_colab_link": true
    },
    "kernelspec": {
      "name": "python3",
      "display_name": "Python 3"
    },
    "language_info": {
      "name": "python"
    }
  },
  "cells": [
    {
      "cell_type": "markdown",
      "metadata": {
        "id": "view-in-github",
        "colab_type": "text"
      },
      "source": [
        "<a href=\"https://colab.research.google.com/github/Pritam-Mondal18/Machine-Learning-yt/blob/main/Feature_Engineering_1.ipynb\" target=\"_parent\"><img src=\"https://colab.research.google.com/assets/colab-badge.svg\" alt=\"Open In Colab\"/></a>"
      ]
    },
    {
      "cell_type": "markdown",
      "source": [
        "# Feature Engineering:\n",
        "### We can not use row data directly.So, we must prepare the data for ML training.Basicaly it is a process of using domain knowladge extract features from raw data.These features can be used to improve the performance of machine learning algorithms.\n",
        "\n",
        "# *Feature Engineering*\n",
        "* Feature Transformation\n",
        "  * Missing Value Imputation\n",
        "  * Handling Categorical Feature\n",
        "  * Outlier Detection\n",
        "  * Feature Scaling\n",
        "* Feature Construction\n",
        "* Feature Selection\n",
        "* Feature Extraction"
      ],
      "metadata": {
        "id": "cQy8ayhkXloh"
      }
    }
  ]
}